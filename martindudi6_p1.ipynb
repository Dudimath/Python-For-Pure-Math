{
 "cells": [
  {
   "cell_type": "markdown",
   "metadata": {},
   "source": [
    "##                                                                   $$AFRICAN INSTITUTE FOR$$\n",
    "##                                                                     $$MATHEMATICAL SCIENCES$$\n",
    "##                                                                     $$(AIMS RWANDA, KIGALI)$$\n",
    "###                                                                     $$Python Assignment 1$$"
   ]
  },
  {
   "cell_type": "markdown",
   "metadata": {},
   "source": [
    "### $$Author$$\n",
    "<center>\n",
    "<table>\n",
    "<tr>\n",
    "    <td align=\"center\" style=\"word-wrap: break-word; width: 150.0; height: 150.0\">\n",
    "        <a href=https://www.linkedin.com/in/dudi>\n",
    "            <img src=https://learn.zone01kisumu.ke/git/avatars/85857d03ad23e78b449e34d513172b4b?size=870 width=\"100;\"  style=\"border-radius:50%;align-items:center;justify-content:center;overflow:hidden;padding-top:10px\" alt=mdudi/>\n",
    "            <br />\n",
    "            <sub style=\"font-size:14px\"><b>mdudi</b></sub>\n",
    "        </a>\n",
    "    </td>\n",
    "</tr>\n",
    "</table>\n",
    "</center>"
   ]
  },
  {
   "cell_type": "markdown",
   "metadata": {},
   "source": [
    "$Question1:$ `Understanding the variables`\n",
    "\n",
    "On the left part of the “understanding the variables”, try to figure out\n",
    "what the values of x and y will be after the code is executed. On the right\n",
    "part, try to figure out what the values of a, b, c, and d will be after the\n",
    "code is executed."
   ]
  },
  {
   "cell_type": "markdown",
   "metadata": {},
   "source": [
    "\n",
    "x = 3$$a = 5$$\n",
    "y = 4$$b = a + 2$$\n",
    "z = x + y$$c = b * 2$$\n",
    "z = z + 1$$d = c - a$$ \n",
    "x = y $$a = d + 3$$ \n",
    "y = 5$$b = a - c$$   \n",
    "$$c = d * b$$\n",
    "$$d = a + b + c$$\n"
   ]
  },
  {
   "cell_type": "code",
   "execution_count": 2,
   "metadata": {},
   "outputs": [
    {
     "name": "stdout",
     "output_type": "stream",
     "text": [
      "====================\n",
      "x = 4, y = 5, z = 8\n"
     ]
    }
   ],
   "source": [
    "x = 3\n",
    "y = 4\n",
    "z = x + y  # z = 3 + 4 = 7\n",
    "z = z + 1  # z = 7 + 1 = 8\n",
    "x = y      # x = 4\n",
    "y = 5      # y = 5\n",
    "\n",
    "# Final values\n",
    "print(\"=\"*20)\n",
    "print(f\"x = {x}, y = {y}, z = {z}\")"
   ]
  },
  {
   "cell_type": "code",
   "execution_count": 3,
   "metadata": {},
   "outputs": [
    {
     "name": "stdout",
     "output_type": "stream",
     "text": [
      "a = 12, b = -2, c = -18, d = -8\n"
     ]
    }
   ],
   "source": [
    "a = 5\n",
    "b = a + 2  # b = 5 + 2 = 7\n",
    "c = b * 2  # c = 7 * 2 = 14\n",
    "d = c - a  # d = 14 - 5 = 9\n",
    "a = d + 3  # a = 9 + 3 = 12\n",
    "b = a - c  # b = 12 - 14 = -2\n",
    "c = d * b  # c = 9 * (-2) = -18\n",
    "d = a + b + c  # d = 12 + (-2) + (-18) = -8\n",
    "\n",
    "# Final values\n",
    "print(f\"a = {a}, b = {b}, c = {c}, d = {d}\")"
   ]
  },
  {
   "cell_type": "markdown",
   "metadata": {},
   "source": [
    "$Question 2:$  ``Print Triangle and Rectangle``"
   ]
  },
  {
   "cell_type": "markdown",
   "metadata": {},
   "source": []
  },
  {
   "cell_type": "markdown",
   "metadata": {},
   "source": [
    "1. Rectangle"
   ]
  },
  {
   "cell_type": "code",
   "execution_count": 6,
   "metadata": {},
   "outputs": [
    {
     "name": "stdout",
     "output_type": "stream",
     "text": [
      "***********\n",
      "*         *\n",
      "***********\n"
     ]
    }
   ],
   "source": [
    "# Rectangle\n",
    "print(\"*\"*11)\n",
    "print(\"*         *\")\n",
    "print(\"*\"*11)"
   ]
  },
  {
   "cell_type": "markdown",
   "metadata": {},
   "source": [
    "2. Triangle"
   ]
  },
  {
   "cell_type": "code",
   "execution_count": 7,
   "metadata": {},
   "outputs": [
    {
     "name": "stdout",
     "output_type": "stream",
     "text": [
      "*\n",
      "**\n",
      "***\n",
      "****\n",
      "*****\n"
     ]
    }
   ],
   "source": [
    "for i in range(1, 6):\n",
    "    print('*' * i)"
   ]
  },
  {
   "cell_type": "markdown",
   "metadata": {},
   "source": [
    "$Question 3:$ `Weight Conversion`"
   ]
  },
  {
   "cell_type": "markdown",
   "metadata": {},
   "source": [
    "Write a program that asks the user for weight in kilograms and converts\n",
    "it to pounds. There are 2.2 pounds in a kilogram. (Practice this on your\n",
    "weight)"
   ]
  },
  {
   "cell_type": "code",
   "execution_count": 8,
   "metadata": {},
   "outputs": [
    {
     "name": "stdout",
     "output_type": "stream",
     "text": [
      "Weight in pounds: 167.20\n"
     ]
    }
   ],
   "source": [
    "weight_kg = float(input(\"Enter weight in kilograms: \"))\n",
    "weight_pounds = weight_kg * 2.2\n",
    "print(f\"Weight in pounds: {weight_pounds:.2f}\")"
   ]
  },
  {
   "cell_type": "markdown",
   "metadata": {},
   "source": [
    "$Question 4:$ `Tip Calculator`"
   ]
  },
  {
   "cell_type": "markdown",
   "metadata": {},
   "source": [
    "A lot of cell phones have tip calculators. Write one. Ask the user for the\n",
    "price of the meal and the percent tip they want to leave. Then print both\n",
    "the tip amount and the total bill with the tip included."
   ]
  },
  {
   "cell_type": "code",
   "execution_count": 9,
   "metadata": {},
   "outputs": [
    {
     "name": "stdout",
     "output_type": "stream",
     "text": [
      "Tip amount: 300.0\n",
      "Total bill with tip: 1800.0\n"
     ]
    }
   ],
   "source": [
    "meal_price = float(input(\"Enter the price of the meal: \"))\n",
    "tip_percent = float(input(\"Enter the tip percentage: \"))\n",
    "tip_amount = meal_price * (tip_percent / 100)\n",
    "total_bill = meal_price + tip_amount\n",
    "print(f\"Tip amount: {tip_amount}\")\n",
    "print(f\"Total bill with tip: {total_bill}\")"
   ]
  },
  {
   "cell_type": "markdown",
   "metadata": {},
   "source": [
    "$Question 5:$ `String Manipulation`"
   ]
  },
  {
   "cell_type": "markdown",
   "metadata": {},
   "source": [
    "Given two strings, s1 and s2, write a program to return a new string made\n",
    "\n",
    "of s1 and s2’s first, middle, and last characters.\n",
    "\n",
    "Given:\n",
    "\n",
    "s1 = ‘America’ s2 = ‘Japan’\n",
    "\n",
    "Expected Output: ‘AJrpan’"
   ]
  },
  {
   "cell_type": "code",
   "execution_count": 10,
   "metadata": {},
   "outputs": [
    {
     "name": "stdout",
     "output_type": "stream",
     "text": [
      "AJrpan\n"
     ]
    }
   ],
   "source": [
    "s1 = 'America'\n",
    "s2 = 'Japan'\n",
    "result = s1[0] + s2[0] + s1[len(s1)//2] + s2[len(s2)//2] + s1[-1] + s2[-1]\n",
    "print(result)"
   ]
  },
  {
   "cell_type": "markdown",
   "metadata": {},
   "source": [
    "$Question 6:$"
   ]
  },
  {
   "cell_type": "markdown",
   "metadata": {},
   "source": [
    "What is expected output of this code\n",
    "\n",
    "x = 50\n",
    "\n",
    "def fun1():\n",
    "\n",
    "x = 25\n",
    "\n",
    "print(x)    \n",
    "\n",
    "fun1()\n",
    "\n",
    "print(x)"
   ]
  },
  {
   "cell_type": "code",
   "execution_count": 12,
   "metadata": {},
   "outputs": [
    {
     "name": "stdout",
     "output_type": "stream",
     "text": [
      "25\n",
      "50\n"
     ]
    }
   ],
   "source": [
    "x = 50\n",
    "def fun1():\n",
    "    x = 25\n",
    "    print(x)\n",
    "fun1()\n",
    "print(x)"
   ]
  },
  {
   "cell_type": "markdown",
   "metadata": {},
   "source": [
    "$Question 7:$ \n",
    "Ask the user to enter a number x. Use the sep optional argument to print\n",
    "out x, 2x, 3x, 4x, and 5x, each separated by three dashes, like below.\n",
    "\n",
    "Enter a number: 7\n",
    "\n",
    "7---14---21---28---35"
   ]
  },
  {
   "cell_type": "code",
   "execution_count": 13,
   "metadata": {},
   "outputs": [
    {
     "name": "stdout",
     "output_type": "stream",
     "text": [
      "3---6---9---12---15\n"
     ]
    }
   ],
   "source": [
    "x = int(input(\"Enter a number: \"))\n",
    "print(x, 2*x, 3*x, 4*x, 5*x, sep='---')"
   ]
  },
  {
   "cell_type": "markdown",
   "metadata": {},
   "source": [
    "$Question 8:$ Write a program that generates a random number, x, between 1 and 50,\n",
    "\n",
    "a random number y between 2 and 5, and computes x^y."
   ]
  },
  {
   "cell_type": "code",
   "execution_count": 14,
   "metadata": {},
   "outputs": [
    {
     "name": "stdout",
     "output_type": "stream",
     "text": [
      "x: 38, y: 2, x^y: 1444\n"
     ]
    }
   ],
   "source": [
    "import random\n",
    "\n",
    "x = random.randint(1, 50)\n",
    "y = random.randint(2, 5)\n",
    "result = x ** y\n",
    "print(f\"x: {x}, y: {y}, x^y: {result}\")"
   ]
  },
  {
   "cell_type": "markdown",
   "metadata": {},
   "source": [
    "$Question 9:$ \n",
    "\n",
    "Create a Python program that asks the user to enter their salary. If the\n",
    "salary is greater than 50000, calculate and display the bonus as 10% of the\n",
    "salary. If the salary is less than or equal to 50000, display ”No bonus”."
   ]
  },
  {
   "cell_type": "code",
   "execution_count": 15,
   "metadata": {},
   "outputs": [
    {
     "name": "stdout",
     "output_type": "stream",
     "text": [
      "No bonus\n"
     ]
    }
   ],
   "source": [
    "salary = float(input(\"Enter your salary: \"))\n",
    "if salary > 50000:\n",
    "    bonus = salary * 0.1\n",
    "    print(f\"Bonus: {bonus}\")\n",
    "else:\n",
    "    print(\"No bonus\")"
   ]
  },
  {
   "cell_type": "markdown",
   "metadata": {},
   "source": [
    "$Question 10:$ \n",
    "\n",
    "A year is a leap year if it is divisible by 4, except that years divisible by 100\n",
    "are not leap years unless they are also divisible by 400. Write a program\n",
    "that asks the user for a year and prints out whether it is a leap year or\n",
    "not. For example, the years 1700, 1800, and 1900 are not leap years, but\n",
    "the years 1600, 1996, and 2000 are."
   ]
  },
  {
   "cell_type": "code",
   "execution_count": 17,
   "metadata": {},
   "outputs": [
    {
     "name": "stdout",
     "output_type": "stream",
     "text": [
      "2024 is a leap year\n"
     ]
    }
   ],
   "source": [
    "year = int(input(\"Enter a year: \"))\n",
    "if (year % 4 == 0 and year % 100 != 0) or (year % 400 == 0):\n",
    "    print(f\"{year} is a leap year\")\n",
    "else:\n",
    "    print(f\"{year} is not a leap year\")"
   ]
  },
  {
   "cell_type": "markdown",
   "metadata": {},
   "source": [
    "$Question 11:$\n",
    "\n",
    "Write Python code to calculate the sum of the first 10000 odd integers."
   ]
  },
  {
   "cell_type": "code",
   "execution_count": 18,
   "metadata": {},
   "outputs": [
    {
     "name": "stdout",
     "output_type": "stream",
     "text": [
      "Sum of the first 10000 odd integers: 100000000\n"
     ]
    }
   ],
   "source": [
    "sum_odd = sum(i for i in range(1, 20000, 2))\n",
    "print(f\"Sum of the first 10000 odd integers: {sum_odd}\")"
   ]
  },
  {
   "cell_type": "markdown",
   "metadata": {},
   "source": [
    "$Question 12:$ \n",
    "\n",
    "use a for loop to generate the discrete intervals x ∈ [a, b] with n points\n",
    "choosing any values for a,b,and n. Also Use a while loop to generate the\n",
    "discrete interval [2, 5] with 51 points."
   ]
  },
  {
   "cell_type": "code",
   "execution_count": 20,
   "metadata": {},
   "outputs": [
    {
     "name": "stdout",
     "output_type": "stream",
     "text": [
      "For loop interval: [1, 3, 5, 7, 9]\n"
     ]
    }
   ],
   "source": [
    "a = 1\n",
    "b = 10\n",
    "n = 5\n",
    "interval = [a + i * ((b - a) // (n - 1)) for i in range(n)]\n",
    "print(\"For loop interval:\", interval)"
   ]
  },
  {
   "cell_type": "code",
   "execution_count": 27,
   "metadata": {},
   "outputs": [
    {
     "name": "stdout",
     "output_type": "stream",
     "text": [
      "While loop interval: [2, 2, 2, 2, 2, 2, 2, 2, 2, 3, 3, 3, 3, 3, 3, 3, 3, 3, 3, 3, 3, 3, 3, 3, 3, 4, 4, 4, 4, 4, 4, 4, 4, 4, 4, 4, 4, 4, 4, 4, 4, 4, 5, 5, 5, 5, 5, 5, 5, 5, 5]\n",
      "Length of interval: 51\n"
     ]
    }
   ],
   "source": [
    "start = 2\n",
    "end = 5\n",
    "points = 51\n",
    "interval = []\n",
    "current = start\n",
    "step = (end - start) / (points - 1)\n",
    "count = 0\n",
    "\n",
    "while count < points:\n",
    "    interval.append(round(current))\n",
    "    current += step\n",
    "    count += 1\n",
    "\n",
    "print(\"While loop interval:\", interval)\n",
    "print(\"Length of interval:\", len(interval))"
   ]
  },
  {
   "cell_type": "markdown",
   "metadata": {},
   "source": [
    "$Question 13:$ \n",
    "\n",
    "The Fibonacci numbers form a sequence that has the following generating\n",
    "\n",
    "function\n",
    "\n",
    "F0 = 1, F1 = 1\n",
    "\n",
    "Fi = Fi−1 + Fi−2, i = 2, 3, . . . .\n",
    "\n",
    "By considering the terms in the Fibonacci sequence whose values do not\n",
    "exceed four million, find the sum of the even-valued terms."
   ]
  },
  {
   "cell_type": "code",
   "execution_count": 28,
   "metadata": {},
   "outputs": [
    {
     "name": "stdout",
     "output_type": "stream",
     "text": [
      "Sum of even-valued terms: 4613732\n"
     ]
    }
   ],
   "source": [
    "a, b = 1, 1\n",
    "sum_even = 0\n",
    "while b <= 4000000:\n",
    "    if b % 2 == 0:\n",
    "        sum_even += b\n",
    "    a, b = b, a + b\n",
    "print(f\"Sum of even-valued terms: {sum_even}\")"
   ]
  }
 ],
 "metadata": {
  "kernelspec": {
   "display_name": "learn-env",
   "language": "python",
   "name": "python3"
  },
  "language_info": {
   "codemirror_mode": {
    "name": "ipython",
    "version": 3
   },
   "file_extension": ".py",
   "mimetype": "text/x-python",
   "name": "python",
   "nbconvert_exporter": "python",
   "pygments_lexer": "ipython3",
   "version": "undefined.undefined.undefined"
  }
 },
 "nbformat": 4,
 "nbformat_minor": 2
}
